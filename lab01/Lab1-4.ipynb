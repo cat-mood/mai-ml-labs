{
 "cells": [
  {
   "cell_type": "markdown",
   "id": "ec6e7d18-6a6e-4a51-a7cd-0a1152604973",
   "metadata": {},
   "source": [
    "## Лабораторная работа №1 | Вариант 4"
   ]
  },
  {
   "cell_type": "markdown",
   "id": "277877ce-f982-4711-a6a6-2a4a90871409",
   "metadata": {},
   "source": [
    "Выполнил: Голубев Тимофей Дмитриевич. Группа: М8О-306Б-22"
   ]
  },
  {
   "cell_type": "markdown",
   "id": "031f025d-84dc-470f-b839-456a76d9636b",
   "metadata": {},
   "source": [
    "### 1. Numpy"
   ]
  },
  {
   "cell_type": "code",
   "execution_count": 1,
   "id": "8a2c6f8d-e85b-4982-ba6d-77ffdb7d53e8",
   "metadata": {},
   "outputs": [],
   "source": [
    "import numpy as np"
   ]
  },
  {
   "cell_type": "markdown",
   "id": "6ff3559d-5f3e-4540-9a31-bfb9f42a23da",
   "metadata": {},
   "source": [
    "1. Найти индексы не нулевых элементов массива [1,2,0,0,4,0]"
   ]
  },
  {
   "cell_type": "code",
   "execution_count": 2,
   "id": "752bc586-1e3f-4085-85c3-4068b781314f",
   "metadata": {},
   "outputs": [
    {
     "name": "stdout",
     "output_type": "stream",
     "text": [
      "[0 1 4]\n"
     ]
    }
   ],
   "source": [
    "arr = np.array([1, 2, 0, 0, 4, 0])\n",
    "print(np.where(arr != 0)[0])"
   ]
  },
  {
   "cell_type": "markdown",
   "id": "0243a0f6-1905-4e2d-9572-9ba49dc003a8",
   "metadata": {},
   "source": [
    "2. Создайте единичную матрицу размером 3х3"
   ]
  },
  {
   "cell_type": "code",
   "execution_count": 3,
   "id": "ec6ae581-5adf-459c-bdc7-8b015d9529f6",
   "metadata": {},
   "outputs": [
    {
     "name": "stdout",
     "output_type": "stream",
     "text": [
      "[[1 0 0]\n",
      " [0 1 0]\n",
      " [0 0 1]]\n"
     ]
    }
   ],
   "source": [
    "e = np.diag([1, 1, 1])\n",
    "print(e)"
   ]
  },
  {
   "cell_type": "markdown",
   "id": "8c7d3811-a555-4c02-ada8-e4a70b9dee46",
   "metadata": {},
   "source": [
    "3. Создайте матрицу-шахматную доску 8х8 используя функцию `tile`"
   ]
  },
  {
   "cell_type": "code",
   "execution_count": 4,
   "id": "12d0ed34-908c-4840-8b81-457e64dd7b0b",
   "metadata": {},
   "outputs": [
    {
     "name": "stdout",
     "output_type": "stream",
     "text": [
      "[[1 0 1 0 1 0 1 0]\n",
      " [0 1 0 1 0 1 0 1]\n",
      " [1 0 1 0 1 0 1 0]\n",
      " [0 1 0 1 0 1 0 1]\n",
      " [1 0 1 0 1 0 1 0]\n",
      " [0 1 0 1 0 1 0 1]\n",
      " [1 0 1 0 1 0 1 0]\n",
      " [0 1 0 1 0 1 0 1]]\n"
     ]
    }
   ],
   "source": [
    "chess = np.array([[1, 0], [0, 1]])\n",
    "print(np.tile(chess, (4, 4)))"
   ]
  },
  {
   "cell_type": "markdown",
   "id": "b7ca56e6-a194-4c42-b8a2-307fcf40f648",
   "metadata": {},
   "source": [
    "4. Дан 1D массив, удалите все элементы которые входят в диапазон `[3, 8]` inplace"
   ]
  },
  {
   "cell_type": "code",
   "execution_count": 5,
   "id": "1b1d64cd-0e28-400f-8d49-a1274947e150",
   "metadata": {},
   "outputs": [
    {
     "name": "stdout",
     "output_type": "stream",
     "text": [
      "[4 4 4 8 7]\n"
     ]
    }
   ],
   "source": [
    "arr = np.array([0, 4, 4, 2, 1, 4, 8, 7, 10, 15])\n",
    "mask = np.logical_and(arr >= 3, arr <= 8)\n",
    "arr = arr[mask]\n",
    "print(arr)"
   ]
  },
  {
   "cell_type": "markdown",
   "id": "b3b2cd1e-e996-45e0-b9ed-e12ce653a9c3",
   "metadata": {},
   "source": [
    "5. Создайте случайный вектор размером 10 элементов и замените максимальный элемент на 0"
   ]
  },
  {
   "cell_type": "code",
   "execution_count": 6,
   "id": "c40ef785-d750-42ba-ac6e-b777866202a6",
   "metadata": {},
   "outputs": [
    {
     "name": "stdout",
     "output_type": "stream",
     "text": [
      "[0.7894018  0.12629892 0.79438035 0.12635662 0.5248032  0.26197263\n",
      " 0.99127351 0.40133649 0.48334607 0.01908212]\n",
      "[0.7894018  0.12629892 0.79438035 0.12635662 0.5248032  0.26197263\n",
      " 0.         0.40133649 0.48334607 0.01908212]\n"
     ]
    }
   ],
   "source": [
    "arr = np.random.rand(10)\n",
    "print(arr)\n",
    "np.place(arr, arr == max(arr), [0])\n",
    "print(arr)"
   ]
  },
  {
   "cell_type": "markdown",
   "id": "8108b3a8-5ba8-472d-ad6b-095ade8678ef",
   "metadata": {},
   "source": [
    "6. Как распечатать все значения в массиве?"
   ]
  },
  {
   "cell_type": "code",
   "execution_count": 7,
   "id": "89b58c0a-bd5d-435a-be45-719fdfce662a",
   "metadata": {},
   "outputs": [
    {
     "name": "stdout",
     "output_type": "stream",
     "text": [
      "[[ 0  1  2  3]\n",
      " [ 4  5  6  7]\n",
      " [ 8  9 10 11]\n",
      " [12 13 14 15]\n",
      " [16 17 18 19]]\n"
     ]
    }
   ],
   "source": [
    "arr = np.arange(20).reshape(5, 4)\n",
    "print(arr)"
   ]
  },
  {
   "cell_type": "markdown",
   "id": "98511652-db85-4506-a5b8-f94b05d35ce9",
   "metadata": {},
   "source": [
    "7. Рассмотрим случайный вектор с формой 100х2, представляющей координаты, и найдем расстояния от точки к точке"
   ]
  },
  {
   "cell_type": "code",
   "execution_count": 8,
   "id": "ca72cdb0-ed24-460d-81a9-220b850d62c3",
   "metadata": {},
   "outputs": [
    {
     "name": "stdout",
     "output_type": "stream",
     "text": [
      "[[0.27323824 0.54474508]\n",
      " [0.50946237 0.93706952]\n",
      " [0.43198676 0.43119895]\n",
      " [0.84189259 0.05424095]\n",
      " [0.73501695 0.69289093]\n",
      " [0.03059126 0.41077184]\n",
      " [0.24001724 0.29244211]\n",
      " [0.74214203 0.12220723]\n",
      " [0.2197435  0.06381758]\n",
      " [0.4722928  0.14280726]\n",
      " [0.58985085 0.15819546]\n",
      " [0.40556172 0.48514275]\n",
      " [0.36483423 0.99924333]\n",
      " [0.84746419 0.056341  ]\n",
      " [0.29793367 0.78519061]\n",
      " [0.21926929 0.85359249]\n",
      " [0.06069336 0.44299828]\n",
      " [0.27293383 0.884204  ]\n",
      " [0.5292304  0.51189714]\n",
      " [0.94466028 0.54940144]\n",
      " [0.05357608 0.0771483 ]\n",
      " [0.90020091 0.96792763]\n",
      " [0.17189108 0.63882399]\n",
      " [0.86338783 0.27702674]\n",
      " [0.10633108 0.41187545]\n",
      " [0.01886923 0.77033231]\n",
      " [0.52109184 0.4989774 ]\n",
      " [0.87782684 0.56285539]\n",
      " [0.87699915 0.025806  ]\n",
      " [0.85266375 0.47276429]\n",
      " [0.80022191 0.63732624]\n",
      " [0.67904252 0.21281666]\n",
      " [0.77320804 0.47613706]\n",
      " [0.18517706 0.81898832]\n",
      " [0.06784381 0.23468709]\n",
      " [0.44585253 0.48952812]\n",
      " [0.99729806 0.69133757]\n",
      " [0.76261813 0.3172858 ]\n",
      " [0.4071968  0.31228263]\n",
      " [0.33037188 0.41420814]\n",
      " [0.81463802 0.89317638]\n",
      " [0.08430708 0.12250347]\n",
      " [0.96149021 0.08280239]\n",
      " [0.21112931 0.82134034]\n",
      " [0.36689794 0.41359112]\n",
      " [0.89796107 0.23962322]\n",
      " [0.67107309 0.50003494]\n",
      " [0.15381659 0.73104684]\n",
      " [0.98249213 0.82765291]\n",
      " [0.47264648 0.33935498]\n",
      " [0.56294142 0.58871156]\n",
      " [0.19043703 0.30848435]\n",
      " [0.36681495 0.11113786]\n",
      " [0.21446502 0.2874746 ]\n",
      " [0.26299355 0.62240347]\n",
      " [0.38045021 0.77512131]\n",
      " [0.72039539 0.21896079]\n",
      " [0.65719125 0.47690198]\n",
      " [0.02469462 0.02658239]\n",
      " [0.07029372 0.14002918]\n",
      " [0.33769302 0.5880455 ]\n",
      " [0.71951022 0.24116392]\n",
      " [0.13601311 0.61139373]\n",
      " [0.7236168  0.15369905]\n",
      " [0.91039758 0.06748037]\n",
      " [0.41454411 0.53564394]\n",
      " [0.11914515 0.5877802 ]\n",
      " [0.76672419 0.76357396]\n",
      " [0.04969226 0.83802093]\n",
      " [0.0150042  0.04646394]\n",
      " [0.48013365 0.29994208]\n",
      " [0.95310489 0.6851116 ]\n",
      " [0.35291854 0.04953988]\n",
      " [0.56282887 0.08487128]\n",
      " [0.49241598 0.41202414]\n",
      " [0.54716421 0.67799553]\n",
      " [0.57411361 0.66707667]\n",
      " [0.87480518 0.14608318]\n",
      " [0.86966774 0.29307049]\n",
      " [0.57002155 0.28089133]\n",
      " [0.34005791 0.77745518]\n",
      " [0.91352454 0.55630081]\n",
      " [0.1007448  0.60551162]\n",
      " [0.17870385 0.55732608]\n",
      " [0.06986811 0.79510473]\n",
      " [0.75611873 0.10791119]\n",
      " [0.3373356  0.04459405]\n",
      " [0.18650597 0.76080449]\n",
      " [0.88962244 0.68891299]\n",
      " [0.69530162 0.61386775]\n",
      " [0.44070844 0.17868201]\n",
      " [0.458101   0.74117656]\n",
      " [0.67054403 0.14483558]\n",
      " [0.72648943 0.82558994]\n",
      " [0.20395488 0.30130615]\n",
      " [0.33762048 0.13403808]\n",
      " [0.08729209 0.20466802]\n",
      " [0.81200839 0.92985071]\n",
      " [0.956361   0.64427986]\n",
      " [0.69503854 0.21780266]]\n",
      "0.7928105537620658\n",
      "0.7637710326281657\n",
      "0.8870534498385019\n",
      "0.863438254242118\n",
      "0.9932496042372201\n",
      "0.5724995258254962\n",
      "0.8199754046152209\n",
      "0.7620945978343734\n",
      "0.5757942099581121\n",
      "0.36461796388182616\n",
      "0.7150079851853339\n",
      "0.7448678245176121\n",
      "1.1939565711042595\n",
      "1.1306547365728685\n",
      "0.38349218756502124\n",
      "0.7544336598916691\n",
      "0.8083601855170741\n",
      "0.7928451496727941\n",
      "0.6730038477680749\n",
      "1.167620374647775\n",
      "1.3181062766127385\n",
      "1.0283061181790054\n",
      "1.0263011235758444\n",
      "0.9444074646850183\n",
      "0.6677714412201037\n",
      "0.879532552979999\n",
      "0.6485468254999741\n",
      "0.7334010409496016\n",
      "0.686508328810009\n",
      "0.4658366602252271\n",
      "0.7387076366157539\n",
      "0.5979012686091651\n",
      "0.9648223904347673\n",
      "0.8376362497413095\n",
      "0.7955185408907286\n",
      "0.8679026316188967\n",
      "0.7802125993619659\n",
      "0.6003536367312672\n",
      "0.42278886779023256\n",
      "0.9814450456359528\n",
      "1.2251546225616428\n",
      "0.9575407123027501\n",
      "1.2202044278676039\n",
      "0.7506782607388732\n",
      "0.8396612544609687\n",
      "0.6980685442945512\n",
      "0.8650250946400658\n",
      "0.9619155916184301\n",
      "0.9990713563710047\n",
      "0.5827962923673902\n",
      "0.8079180636504619\n",
      "0.6113300329825315\n",
      "0.5733120156135088\n",
      "0.6192393724315491\n",
      "0.5197831271607614\n",
      "0.9466286003261704\n",
      "0.5666968652702291\n",
      "1.0405845560845992\n",
      "0.3988055741283772\n",
      "0.8458224511306944\n",
      "0.8536385480774648\n",
      "0.9765894271963937\n",
      "1.0223983386643272\n",
      "0.5224935031010719\n",
      "0.9818436965799181\n",
      "0.5895211731780602\n",
      "0.9073989204105631\n",
      "0.8896509990672639\n",
      "0.9089802298408395\n",
      "0.8477072529759658\n",
      "0.9263588768151465\n",
      "1.1116465616771694\n",
      "0.495218875378922\n",
      "0.6305281486796792\n",
      "0.5663211231704577\n",
      "0.19459766655951477\n",
      "0.9064684561068785\n",
      "0.39003173767181715\n",
      "0.5584132494764186\n",
      "0.8523658162225575\n",
      "0.8914151616251746\n",
      "0.928434459001125\n",
      "0.3551683903173548\n",
      "0.5887396641311273\n",
      "1.1719403435867612\n",
      "0.6943344092921064\n",
      "0.9311498644949684\n",
      "0.8803453676632046\n",
      "0.5190048819623736\n",
      "0.8305292991278699\n",
      "0.7615031872056196\n",
      "0.8993241921393945\n",
      "0.8583121526642846\n",
      "1.0231414046054292\n",
      "0.5485742194022177\n",
      "0.5665318426762069\n",
      "1.204117517786744\n",
      "0.655685482024668\n",
      "0.8293368722162613\n"
     ]
    }
   ],
   "source": [
    "from turtle import distance\n",
    "\n",
    "\n",
    "arr = np.random.rand(100 * 2).reshape(100, 2)\n",
    "\n",
    "print(arr)\n",
    "\n",
    "def get_distance(point1, point2):\n",
    "    return (abs(point1[0] - point2[0]) + abs(point1[1] - point2[1])) ** 0.5\n",
    "\n",
    "for i in range(1, len(arr)):\n",
    "    print(get_distance(arr[i], arr[i - 1]))"
   ]
  },
  {
   "cell_type": "markdown",
   "id": "1412a70a-2a1e-406e-a227-afc9a47ed659",
   "metadata": {},
   "source": [
    "8. Как конвертировать массив float(32 bit) к массиву целых чисел (integer 32 bit) in place?"
   ]
  },
  {
   "cell_type": "code",
   "execution_count": 9,
   "id": "22bb8bbf-52dd-4d3c-86c0-c4e9637b909b",
   "metadata": {},
   "outputs": [
    {
     "name": "stdout",
     "output_type": "stream",
     "text": [
      "[ 0.          5.55555556 11.11111111 16.66666667 22.22222222 27.77777778\n",
      " 33.33333333 38.88888889 44.44444444 50.        ]\n",
      "[ 0  5 11 16 22 27 33 38 44 50]\n"
     ]
    }
   ],
   "source": [
    "arr = np.linspace(0, 50, 10)\n",
    "print(arr)\n",
    "print(arr.astype(int))"
   ]
  },
  {
   "cell_type": "markdown",
   "id": "f7dc66bf-f7c8-4d78-834b-451651f6839a",
   "metadata": {},
   "source": [
    "9. Как прочитать заданный файл?\n",
    "```\n",
    "1, 2, 3, 4, 5\n",
    "6,  ,  , 7, 8\n",
    " ,  , 9,10,11\n",
    "```"
   ]
  },
  {
   "cell_type": "code",
   "execution_count": 10,
   "id": "0ecf5586-d30e-4256-ab93-7ff9bab0b34b",
   "metadata": {},
   "outputs": [
    {
     "name": "stdout",
     "output_type": "stream",
     "text": [
      "[[ 1.  2.  3.  4.  5.]\n",
      " [ 6.  0.  0.  7.  8.]\n",
      " [ 0.  0.  9. 10. 11.]]\n"
     ]
    }
   ],
   "source": [
    "from io import StringIO\n",
    "\n",
    "c = StringIO(\"1, 2, 3, 4, 5\\n6,  ,  , 7, 8\\n ,  , 9,10,11\")\n",
    "\n",
    "def conv(val):\n",
    "    try:\n",
    "        return int(val)\n",
    "    except:\n",
    "        return 0\n",
    "\n",
    "arr = np.loadtxt(c, delimiter=\",\", converters=conv)\n",
    "print(arr)"
   ]
  },
  {
   "cell_type": "markdown",
   "id": "a66194f1-0099-4808-8ebf-5cf10eee5071",
   "metadata": {},
   "source": [
    "10. Какой эквивалент enumerate для numpy массивов?"
   ]
  },
  {
   "cell_type": "code",
   "execution_count": 11,
   "id": "07ed452c-3f7c-40a7-a5b5-716602a5eed9",
   "metadata": {},
   "outputs": [
    {
     "name": "stdout",
     "output_type": "stream",
     "text": [
      "(0, 0) 1\n",
      "(0, 1) 2\n",
      "(1, 0) 3\n",
      "(1, 1) 4\n"
     ]
    }
   ],
   "source": [
    "a = np.array([[1, 2], [3, 4]])\n",
    "for index, x in np.ndenumerate(a):\n",
    "    print(index, x)"
   ]
  },
  {
   "cell_type": "markdown",
   "id": "5bd0f757-bb01-4afb-b4f0-6821b5c5b2b7",
   "metadata": {},
   "source": [
    "### 2. Pandas"
   ]
  },
  {
   "cell_type": "markdown",
   "id": "bdffd013-e573-4318-8062-65ae1c5e07e8",
   "metadata": {},
   "source": [
    "Найдите ответы на вопросы или выполните действия с предложенным датасетом \n",
    "\n",
    "Файл: `russian-housing-market.csv`\n",
    "\n",
    "```\n",
    "price_doc - Цена продажи\n",
    "id - Id транзакции\n",
    "timestamp - Дата транзакции\n",
    "full_sq - суммарная площадь в квадратных метрах, включая лоджию, валконы и отдельные нежилые помещения\n",
    "life_sq - жилая площаль в квадратных метрах, исключая лоджии, балконы и прочие нежилые помещения\n",
    "floor - для апартаментов, этаж помещения\n",
    "max_floor - количество этажей в здании\n",
    "material - материал стен\n",
    "build_year - год постройки\n",
    "num_room - количество жилых комнат\n",
    "kitch_sq - площадь кухни\n",
    "state - состояние апартаментов\n",
    "product_type - покупка или инвестиция собственника-арендатора\n",
    "sub_area - название района\n",
    "```"
   ]
  },
  {
   "cell_type": "code",
   "execution_count": 12,
   "id": "0778ec2b-a7b2-4738-b771-bb1781986f62",
   "metadata": {},
   "outputs": [],
   "source": [
    "import pandas as pd"
   ]
  },
  {
   "cell_type": "code",
   "execution_count": 13,
   "id": "bfc45614-d44b-49bd-a55c-c410a95a808f",
   "metadata": {},
   "outputs": [],
   "source": [
    "df = pd.read_csv(\"russian-housing-market.csv\")"
   ]
  },
  {
   "cell_type": "markdown",
   "id": "1026e8c6-513a-41e3-b2f4-68aae18b8435",
   "metadata": {},
   "source": [
    "1. Посчитайте количество записей в датасете с отсутствующей информацией о жилой площади жилого помещения"
   ]
  },
  {
   "cell_type": "code",
   "execution_count": 14,
   "id": "e74655aa-b97c-42e5-b972-e0753ddc2331",
   "metadata": {},
   "outputs": [
    {
     "name": "stdout",
     "output_type": "stream",
     "text": [
      "6383\n"
     ]
    }
   ],
   "source": [
    "print(df[\"life_sq\"].isnull().value_counts()[True])"
   ]
  },
  {
   "cell_type": "markdown",
   "id": "eee028a5-9311-4a4f-b4ac-1fb75acfb4b3",
   "metadata": {},
   "source": [
    "2. Предложите способ заменить отсутствующие значения из пункта 1 и реализуйте его. Способ нужно аргументировать(сказать почему это достаточно хорошее приближение)"
   ]
  },
  {
   "cell_type": "code",
   "execution_count": 15,
   "id": "ac0fb641-96d2-4e7c-88d5-636ce3b699d2",
   "metadata": {},
   "outputs": [
    {
     "name": "stdout",
     "output_type": "stream",
     "text": [
      "Before:\n"
     ]
    },
    {
     "data": {
      "text/html": [
       "<div>\n",
       "<style scoped>\n",
       "    .dataframe tbody tr th:only-of-type {\n",
       "        vertical-align: middle;\n",
       "    }\n",
       "\n",
       "    .dataframe tbody tr th {\n",
       "        vertical-align: top;\n",
       "    }\n",
       "\n",
       "    .dataframe thead th {\n",
       "        text-align: right;\n",
       "    }\n",
       "</style>\n",
       "<table border=\"1\" class=\"dataframe\">\n",
       "  <thead>\n",
       "    <tr style=\"text-align: right;\">\n",
       "      <th></th>\n",
       "      <th>id</th>\n",
       "      <th>timestamp</th>\n",
       "      <th>full_sq</th>\n",
       "      <th>life_sq</th>\n",
       "      <th>floor</th>\n",
       "      <th>max_floor</th>\n",
       "      <th>material</th>\n",
       "      <th>build_year</th>\n",
       "      <th>num_room</th>\n",
       "      <th>kitch_sq</th>\n",
       "      <th>state</th>\n",
       "      <th>product_type</th>\n",
       "      <th>sub_area</th>\n",
       "      <th>price_doc</th>\n",
       "    </tr>\n",
       "  </thead>\n",
       "  <tbody>\n",
       "    <tr>\n",
       "      <th>559</th>\n",
       "      <td>560</td>\n",
       "      <td>2011-12-07</td>\n",
       "      <td>73</td>\n",
       "      <td>NaN</td>\n",
       "      <td>14.0</td>\n",
       "      <td>NaN</td>\n",
       "      <td>NaN</td>\n",
       "      <td>NaN</td>\n",
       "      <td>NaN</td>\n",
       "      <td>NaN</td>\n",
       "      <td>NaN</td>\n",
       "      <td>OwnerOccupier</td>\n",
       "      <td>Bogorodskoe</td>\n",
       "      <td>10100958</td>\n",
       "    </tr>\n",
       "  </tbody>\n",
       "</table>\n",
       "</div>"
      ],
      "text/plain": [
       "      id   timestamp  full_sq  life_sq  floor  max_floor  material  \\\n",
       "559  560  2011-12-07       73      NaN   14.0        NaN       NaN   \n",
       "\n",
       "     build_year  num_room  kitch_sq  state   product_type     sub_area  \\\n",
       "559         NaN       NaN       NaN    NaN  OwnerOccupier  Bogorodskoe   \n",
       "\n",
       "     price_doc  \n",
       "559   10100958  "
      ]
     },
     "metadata": {},
     "output_type": "display_data"
    },
    {
     "name": "stdout",
     "output_type": "stream",
     "text": [
      "After:\n"
     ]
    },
    {
     "data": {
      "text/html": [
       "<div>\n",
       "<style scoped>\n",
       "    .dataframe tbody tr th:only-of-type {\n",
       "        vertical-align: middle;\n",
       "    }\n",
       "\n",
       "    .dataframe tbody tr th {\n",
       "        vertical-align: top;\n",
       "    }\n",
       "\n",
       "    .dataframe thead th {\n",
       "        text-align: right;\n",
       "    }\n",
       "</style>\n",
       "<table border=\"1\" class=\"dataframe\">\n",
       "  <thead>\n",
       "    <tr style=\"text-align: right;\">\n",
       "      <th></th>\n",
       "      <th>id</th>\n",
       "      <th>timestamp</th>\n",
       "      <th>full_sq</th>\n",
       "      <th>life_sq</th>\n",
       "      <th>floor</th>\n",
       "      <th>max_floor</th>\n",
       "      <th>material</th>\n",
       "      <th>build_year</th>\n",
       "      <th>num_room</th>\n",
       "      <th>kitch_sq</th>\n",
       "      <th>state</th>\n",
       "      <th>product_type</th>\n",
       "      <th>sub_area</th>\n",
       "      <th>price_doc</th>\n",
       "      <th>life_sq / full_sq</th>\n",
       "    </tr>\n",
       "  </thead>\n",
       "  <tbody>\n",
       "    <tr>\n",
       "      <th>559</th>\n",
       "      <td>560</td>\n",
       "      <td>2011-12-07</td>\n",
       "      <td>73</td>\n",
       "      <td>44.318273</td>\n",
       "      <td>14.0</td>\n",
       "      <td>NaN</td>\n",
       "      <td>NaN</td>\n",
       "      <td>NaN</td>\n",
       "      <td>NaN</td>\n",
       "      <td>NaN</td>\n",
       "      <td>NaN</td>\n",
       "      <td>OwnerOccupier</td>\n",
       "      <td>Bogorodskoe</td>\n",
       "      <td>10100958</td>\n",
       "      <td>NaN</td>\n",
       "    </tr>\n",
       "  </tbody>\n",
       "</table>\n",
       "</div>"
      ],
      "text/plain": [
       "      id   timestamp  full_sq    life_sq  floor  max_floor  material  \\\n",
       "559  560  2011-12-07       73  44.318273   14.0        NaN       NaN   \n",
       "\n",
       "     build_year  num_room  kitch_sq  state   product_type     sub_area  \\\n",
       "559         NaN       NaN       NaN    NaN  OwnerOccupier  Bogorodskoe   \n",
       "\n",
       "     price_doc  life_sq / full_sq  \n",
       "559   10100958                NaN  "
      ]
     },
     "metadata": {},
     "output_type": "display_data"
    }
   ],
   "source": [
    "print('Before:')\n",
    "display(df[df[\"id\"] == 560])\n",
    "df[\"life_sq / full_sq\"] = df[\"life_sq\"] / df[\"full_sq\"]\n",
    "df.replace([np.inf, -np.inf], np.nan, inplace=True)\n",
    "df[\"life_sq / full_sq\"]\n",
    "means = df.groupby([\"sub_area\"])[\"life_sq / full_sq\"].mean().reset_index()\n",
    "# means[means['sub_area'] == 'Bogorodskoe']\n",
    "merged = pd.merge(df, means, on=['sub_area'], how='left')\n",
    "    \n",
    "#     df[df[\"sub_area\"] == item[0]].fillna(item[1].mean())\n",
    "# means[df[\"sub_area\"]]\n",
    "df['life_sq'] = df['life_sq'].fillna(merged['full_sq'] * merged['life_sq / full_sq_y'])\n",
    "print('After:')\n",
    "display(df[df[\"id\"] == 560])"
   ]
  },
  {
   "cell_type": "markdown",
   "id": "7f9a8625",
   "metadata": {},
   "source": [
    "Поле life_sq высчитывается по формуле ```'full_sq' * 'life_sq / full_sq'```, где ```'life_sq / full_sq'``` - среднее отношение по району. Я считаю, что за счёт группировки по районам - это хорошее приближение."
   ]
  },
  {
   "cell_type": "markdown",
   "id": "cd7979ba-2fa8-4fd3-986d-26cee122da1f",
   "metadata": {},
   "source": [
    "3. Какие значения имеет 25, 50 и 75 перцентили полной площади помещения"
   ]
  },
  {
   "cell_type": "code",
   "execution_count": 16,
   "id": "3915f77b-116c-482b-8644-2f5f11931af9",
   "metadata": {},
   "outputs": [
    {
     "name": "stdout",
     "output_type": "stream",
     "text": [
      "38.0\n",
      "49.0\n",
      "63.0\n"
     ]
    }
   ],
   "source": [
    "print(df[\"full_sq\"].quantile(0.25))\n",
    "print(df[\"full_sq\"].quantile(0.5))\n",
    "print(df[\"full_sq\"].quantile(0.75))"
   ]
  },
  {
   "cell_type": "markdown",
   "id": "1b69ba67-61a8-4765-9795-cfab1a09e929",
   "metadata": {},
   "source": [
    "4. Посчитайте среднюю стоимость продажи помещений с общей площадью от 50 до 70 квадратных метров"
   ]
  },
  {
   "cell_type": "code",
   "execution_count": 17,
   "id": "1228d2e9-fc56-4240-95c6-c98a8b84c016",
   "metadata": {},
   "outputs": [
    {
     "data": {
      "text/html": [
       "<div>\n",
       "<style scoped>\n",
       "    .dataframe tbody tr th:only-of-type {\n",
       "        vertical-align: middle;\n",
       "    }\n",
       "\n",
       "    .dataframe tbody tr th {\n",
       "        vertical-align: top;\n",
       "    }\n",
       "\n",
       "    .dataframe thead th {\n",
       "        text-align: right;\n",
       "    }\n",
       "</style>\n",
       "<table border=\"1\" class=\"dataframe\">\n",
       "  <thead>\n",
       "    <tr style=\"text-align: right;\">\n",
       "      <th></th>\n",
       "      <th>id</th>\n",
       "      <th>timestamp</th>\n",
       "      <th>full_sq</th>\n",
       "      <th>life_sq</th>\n",
       "      <th>floor</th>\n",
       "      <th>max_floor</th>\n",
       "      <th>material</th>\n",
       "      <th>build_year</th>\n",
       "      <th>num_room</th>\n",
       "      <th>kitch_sq</th>\n",
       "      <th>state</th>\n",
       "      <th>product_type</th>\n",
       "      <th>sub_area</th>\n",
       "      <th>price_doc</th>\n",
       "      <th>life_sq / full_sq</th>\n",
       "    </tr>\n",
       "  </thead>\n",
       "  <tbody>\n",
       "    <tr>\n",
       "      <th>5</th>\n",
       "      <td>6</td>\n",
       "      <td>2011-09-06</td>\n",
       "      <td>67</td>\n",
       "      <td>46.00000</td>\n",
       "      <td>14.0</td>\n",
       "      <td>NaN</td>\n",
       "      <td>NaN</td>\n",
       "      <td>NaN</td>\n",
       "      <td>NaN</td>\n",
       "      <td>NaN</td>\n",
       "      <td>NaN</td>\n",
       "      <td>Investment</td>\n",
       "      <td>Nizhegorodskoe</td>\n",
       "      <td>9100000</td>\n",
       "      <td>0.686567</td>\n",
       "    </tr>\n",
       "    <tr>\n",
       "      <th>15</th>\n",
       "      <td>16</td>\n",
       "      <td>2011-09-20</td>\n",
       "      <td>51</td>\n",
       "      <td>31.00000</td>\n",
       "      <td>15.0</td>\n",
       "      <td>NaN</td>\n",
       "      <td>NaN</td>\n",
       "      <td>NaN</td>\n",
       "      <td>NaN</td>\n",
       "      <td>NaN</td>\n",
       "      <td>NaN</td>\n",
       "      <td>Investment</td>\n",
       "      <td>Mar'ino</td>\n",
       "      <td>1850000</td>\n",
       "      <td>0.607843</td>\n",
       "    </tr>\n",
       "    <tr>\n",
       "      <th>18</th>\n",
       "      <td>19</td>\n",
       "      <td>2011-09-22</td>\n",
       "      <td>59</td>\n",
       "      <td>33.00000</td>\n",
       "      <td>10.0</td>\n",
       "      <td>NaN</td>\n",
       "      <td>NaN</td>\n",
       "      <td>NaN</td>\n",
       "      <td>NaN</td>\n",
       "      <td>NaN</td>\n",
       "      <td>NaN</td>\n",
       "      <td>Investment</td>\n",
       "      <td>Kosino-Uhtomskoe</td>\n",
       "      <td>7900000</td>\n",
       "      <td>0.559322</td>\n",
       "    </tr>\n",
       "    <tr>\n",
       "      <th>41</th>\n",
       "      <td>42</td>\n",
       "      <td>2011-09-30</td>\n",
       "      <td>54</td>\n",
       "      <td>30.00000</td>\n",
       "      <td>10.0</td>\n",
       "      <td>NaN</td>\n",
       "      <td>NaN</td>\n",
       "      <td>NaN</td>\n",
       "      <td>NaN</td>\n",
       "      <td>NaN</td>\n",
       "      <td>NaN</td>\n",
       "      <td>Investment</td>\n",
       "      <td>Caricyno</td>\n",
       "      <td>7500000</td>\n",
       "      <td>0.555556</td>\n",
       "    </tr>\n",
       "    <tr>\n",
       "      <th>43</th>\n",
       "      <td>44</td>\n",
       "      <td>2011-10-01</td>\n",
       "      <td>59</td>\n",
       "      <td>42.00000</td>\n",
       "      <td>8.0</td>\n",
       "      <td>NaN</td>\n",
       "      <td>NaN</td>\n",
       "      <td>NaN</td>\n",
       "      <td>NaN</td>\n",
       "      <td>NaN</td>\n",
       "      <td>NaN</td>\n",
       "      <td>Investment</td>\n",
       "      <td>Kon'kovo</td>\n",
       "      <td>9550000</td>\n",
       "      <td>0.711864</td>\n",
       "    </tr>\n",
       "    <tr>\n",
       "      <th>...</th>\n",
       "      <td>...</td>\n",
       "      <td>...</td>\n",
       "      <td>...</td>\n",
       "      <td>...</td>\n",
       "      <td>...</td>\n",
       "      <td>...</td>\n",
       "      <td>...</td>\n",
       "      <td>...</td>\n",
       "      <td>...</td>\n",
       "      <td>...</td>\n",
       "      <td>...</td>\n",
       "      <td>...</td>\n",
       "      <td>...</td>\n",
       "      <td>...</td>\n",
       "      <td>...</td>\n",
       "    </tr>\n",
       "    <tr>\n",
       "      <th>30460</th>\n",
       "      <td>30463</td>\n",
       "      <td>2015-06-29</td>\n",
       "      <td>54</td>\n",
       "      <td>32.00000</td>\n",
       "      <td>8.0</td>\n",
       "      <td>16.0</td>\n",
       "      <td>1.0</td>\n",
       "      <td>1979.0</td>\n",
       "      <td>2.0</td>\n",
       "      <td>9.0</td>\n",
       "      <td>2.0</td>\n",
       "      <td>Investment</td>\n",
       "      <td>Jasenevo</td>\n",
       "      <td>9500000</td>\n",
       "      <td>0.592593</td>\n",
       "    </tr>\n",
       "    <tr>\n",
       "      <th>30463</th>\n",
       "      <td>30466</td>\n",
       "      <td>2015-06-30</td>\n",
       "      <td>56</td>\n",
       "      <td>29.00000</td>\n",
       "      <td>13.0</td>\n",
       "      <td>14.0</td>\n",
       "      <td>1.0</td>\n",
       "      <td>2001.0</td>\n",
       "      <td>2.0</td>\n",
       "      <td>11.0</td>\n",
       "      <td>3.0</td>\n",
       "      <td>Investment</td>\n",
       "      <td>Severnoe Tushino</td>\n",
       "      <td>12000000</td>\n",
       "      <td>0.517857</td>\n",
       "    </tr>\n",
       "    <tr>\n",
       "      <th>30464</th>\n",
       "      <td>30467</td>\n",
       "      <td>2015-06-30</td>\n",
       "      <td>56</td>\n",
       "      <td>51.00000</td>\n",
       "      <td>19.0</td>\n",
       "      <td>19.0</td>\n",
       "      <td>1.0</td>\n",
       "      <td>2017.0</td>\n",
       "      <td>2.0</td>\n",
       "      <td>1.0</td>\n",
       "      <td>1.0</td>\n",
       "      <td>OwnerOccupier</td>\n",
       "      <td>Sviblovo</td>\n",
       "      <td>10262010</td>\n",
       "      <td>0.910714</td>\n",
       "    </tr>\n",
       "    <tr>\n",
       "      <th>30465</th>\n",
       "      <td>30468</td>\n",
       "      <td>2015-06-30</td>\n",
       "      <td>52</td>\n",
       "      <td>39.18894</td>\n",
       "      <td>13.0</td>\n",
       "      <td>17.0</td>\n",
       "      <td>1.0</td>\n",
       "      <td>NaN</td>\n",
       "      <td>2.0</td>\n",
       "      <td>1.0</td>\n",
       "      <td>1.0</td>\n",
       "      <td>OwnerOccupier</td>\n",
       "      <td>Tverskoe</td>\n",
       "      <td>6750554</td>\n",
       "      <td>NaN</td>\n",
       "    </tr>\n",
       "    <tr>\n",
       "      <th>30469</th>\n",
       "      <td>30472</td>\n",
       "      <td>2015-06-30</td>\n",
       "      <td>64</td>\n",
       "      <td>32.00000</td>\n",
       "      <td>5.0</td>\n",
       "      <td>15.0</td>\n",
       "      <td>1.0</td>\n",
       "      <td>2003.0</td>\n",
       "      <td>2.0</td>\n",
       "      <td>11.0</td>\n",
       "      <td>2.0</td>\n",
       "      <td>Investment</td>\n",
       "      <td>Obruchevskoe</td>\n",
       "      <td>13500000</td>\n",
       "      <td>0.500000</td>\n",
       "    </tr>\n",
       "  </tbody>\n",
       "</table>\n",
       "<p>9461 rows × 15 columns</p>\n",
       "</div>"
      ],
      "text/plain": [
       "          id   timestamp  full_sq   life_sq  floor  max_floor  material  \\\n",
       "5          6  2011-09-06       67  46.00000   14.0        NaN       NaN   \n",
       "15        16  2011-09-20       51  31.00000   15.0        NaN       NaN   \n",
       "18        19  2011-09-22       59  33.00000   10.0        NaN       NaN   \n",
       "41        42  2011-09-30       54  30.00000   10.0        NaN       NaN   \n",
       "43        44  2011-10-01       59  42.00000    8.0        NaN       NaN   \n",
       "...      ...         ...      ...       ...    ...        ...       ...   \n",
       "30460  30463  2015-06-29       54  32.00000    8.0       16.0       1.0   \n",
       "30463  30466  2015-06-30       56  29.00000   13.0       14.0       1.0   \n",
       "30464  30467  2015-06-30       56  51.00000   19.0       19.0       1.0   \n",
       "30465  30468  2015-06-30       52  39.18894   13.0       17.0       1.0   \n",
       "30469  30472  2015-06-30       64  32.00000    5.0       15.0       1.0   \n",
       "\n",
       "       build_year  num_room  kitch_sq  state   product_type          sub_area  \\\n",
       "5             NaN       NaN       NaN    NaN     Investment    Nizhegorodskoe   \n",
       "15            NaN       NaN       NaN    NaN     Investment           Mar'ino   \n",
       "18            NaN       NaN       NaN    NaN     Investment  Kosino-Uhtomskoe   \n",
       "41            NaN       NaN       NaN    NaN     Investment          Caricyno   \n",
       "43            NaN       NaN       NaN    NaN     Investment          Kon'kovo   \n",
       "...           ...       ...       ...    ...            ...               ...   \n",
       "30460      1979.0       2.0       9.0    2.0     Investment          Jasenevo   \n",
       "30463      2001.0       2.0      11.0    3.0     Investment  Severnoe Tushino   \n",
       "30464      2017.0       2.0       1.0    1.0  OwnerOccupier          Sviblovo   \n",
       "30465         NaN       2.0       1.0    1.0  OwnerOccupier          Tverskoe   \n",
       "30469      2003.0       2.0      11.0    2.0     Investment      Obruchevskoe   \n",
       "\n",
       "       price_doc  life_sq / full_sq  \n",
       "5        9100000           0.686567  \n",
       "15       1850000           0.607843  \n",
       "18       7900000           0.559322  \n",
       "41       7500000           0.555556  \n",
       "43       9550000           0.711864  \n",
       "...          ...                ...  \n",
       "30460    9500000           0.592593  \n",
       "30463   12000000           0.517857  \n",
       "30464   10262010           0.910714  \n",
       "30465    6750554                NaN  \n",
       "30469   13500000           0.500000  \n",
       "\n",
       "[9461 rows x 15 columns]"
      ]
     },
     "execution_count": 17,
     "metadata": {},
     "output_type": "execute_result"
    }
   ],
   "source": [
    "df[(df[\"full_sq\"] >= 50) & (df[\"full_sq\"] <= 70)]"
   ]
  },
  {
   "cell_type": "markdown",
   "id": "5acec4fd-f740-49a8-a5d8-562d358239c9",
   "metadata": {},
   "source": [
    "5. Какая максимальная этажность здания представлена в датасете"
   ]
  },
  {
   "cell_type": "code",
   "execution_count": 18,
   "id": "cac8daef-f4e8-4c8b-b7f4-d41a6adf35ed",
   "metadata": {},
   "outputs": [
    {
     "data": {
      "text/plain": [
       "77.0"
      ]
     },
     "execution_count": 18,
     "metadata": {},
     "output_type": "execute_result"
    }
   ],
   "source": [
    "df[\"floor\"].max()"
   ]
  },
  {
   "cell_type": "markdown",
   "id": "8d6171a9-0f75-4f3e-ac54-95d03d1f70b6",
   "metadata": {},
   "source": [
    "6. Выявите район с самым дорогим жильем"
   ]
  },
  {
   "cell_type": "code",
   "execution_count": 19,
   "id": "c64d0892-2fb8-4304-966c-5cbb32b03c0a",
   "metadata": {},
   "outputs": [
    {
     "data": {
      "text/plain": [
       "sub_area\n",
       "Hamovniki    2.011657e+07\n",
       "Name: price_doc, dtype: float64"
      ]
     },
     "execution_count": 19,
     "metadata": {},
     "output_type": "execute_result"
    }
   ],
   "source": [
    "df.groupby([\"sub_area\"])[\"price_doc\"].mean().sort_values(ascending=False).head(1)"
   ]
  },
  {
   "cell_type": "markdown",
   "id": "d29320f9-aef8-452c-9d61-0afa72dd93b6",
   "metadata": {},
   "source": [
    "7. Посчитайте среднюю стоимость за квадратный метр жилья в Митино(Mitino)"
   ]
  },
  {
   "cell_type": "code",
   "execution_count": 20,
   "id": "d04e1904-f9f3-40bd-abbd-4d53ee9f7bd2",
   "metadata": {},
   "outputs": [
    {
     "data": {
      "text/plain": [
       "171841.39999559193"
      ]
     },
     "execution_count": 20,
     "metadata": {},
     "output_type": "execute_result"
    }
   ],
   "source": [
    "df[\"cost_per_meter\"] = df[\"price_doc\"] / df[\"full_sq\"]\n",
    "means = df.groupby([\"sub_area\"])[\"cost_per_meter\"].mean()\n",
    "means[\"Mitino\"]"
   ]
  },
  {
   "cell_type": "markdown",
   "id": "1d447d6e-cfde-411c-9078-cd8f41f02d8b",
   "metadata": {},
   "source": [
    "8. Посчитайте среднюю площадь комнаты в Бибирево"
   ]
  },
  {
   "cell_type": "code",
   "execution_count": 21,
   "id": "b30df6b1-5eca-43da-a115-1c1a3cbfd899",
   "metadata": {},
   "outputs": [
    {
     "data": {
      "text/plain": [
       "28.12874251497006"
      ]
     },
     "execution_count": 21,
     "metadata": {},
     "output_type": "execute_result"
    }
   ],
   "source": [
    "df[\"room_sq\"] = df[\"full_sq\"] / df[\"num_room\"]\n",
    "means = df.groupby([\"sub_area\"])[\"room_sq\"].mean()\n",
    "means[\"Bibirevo\"]"
   ]
  },
  {
   "cell_type": "markdown",
   "id": "c41d5d99-65f7-4d17-82ae-971ec959f327",
   "metadata": {},
   "source": [
    "9. Проанализируйте есть ли разница в цене между квартирами на 1 и 9 этажах"
   ]
  },
  {
   "cell_type": "code",
   "execution_count": 22,
   "id": "275bcc04-659b-4521-a9e5-200a5f4ef674",
   "metadata": {},
   "outputs": [
    {
     "name": "stdout",
     "output_type": "stream",
     "text": [
      "first floor:  5739379.587412587\n",
      "ninth floor:  6937582.584373305\n"
     ]
    }
   ],
   "source": [
    "means = df.groupby([\"floor\"])[\"price_doc\"].mean()\n",
    "print(\"first floor: \", means[1])\n",
    "print(\"ninth floor: \", means[9])"
   ]
  },
  {
   "cell_type": "markdown",
   "id": "55da7753",
   "metadata": {},
   "source": [
    "Квартиры на 9 этаже в среднем стоят больше, чем на первом"
   ]
  },
  {
   "cell_type": "markdown",
   "id": "a1f7a5c0-259c-4837-a5d1-2dfc05e7c13e",
   "metadata": {},
   "source": [
    "10. Найдите минимальную стоимость квартиры с жилой площадью не менее 60 квадратных метров, не менее чем 3мя комнатами и не ниже чем на 5 этаже"
   ]
  },
  {
   "cell_type": "code",
   "execution_count": 23,
   "id": "a2da4d57-edb4-4179-8bee-3deda6cd00e6",
   "metadata": {},
   "outputs": [
    {
     "data": {
      "text/plain": [
       "1000000"
      ]
     },
     "execution_count": 23,
     "metadata": {},
     "output_type": "execute_result"
    }
   ],
   "source": [
    "df[(df[\"life_sq\"] >= 60) & (df[\"num_room\"] >= 3) & (df[\"floor\"] >= 5)][\"price_doc\"].min()"
   ]
  },
  {
   "cell_type": "markdown",
   "id": "deb4ca3a-3d8a-4205-bee9-d26fd28638b2",
   "metadata": {},
   "source": [
    "### 3. Визуализация"
   ]
  },
  {
   "cell_type": "markdown",
   "id": "f8941ce1-cbf2-465a-b013-1b84aeb999ef",
   "metadata": {},
   "source": [
    "Используя библиотеки matplotlib/sns/plotly/pandas и набор данных представленный ранее визуализируйте"
   ]
  },
  {
   "cell_type": "markdown",
   "id": "5e98ce6f-8d02-4120-ad85-241494c038d6",
   "metadata": {},
   "source": [
    "1. Как менялась средняя цена квартиры в Нагатинском Затоне(Nagatinski Zaton) с течением времени"
   ]
  },
  {
   "cell_type": "code",
   "execution_count": 24,
   "id": "664666b2-17b7-49dd-a3bd-c4be9361755d",
   "metadata": {},
   "outputs": [
    {
     "data": {
      "text/plain": [
       "Text(0, 0.5, 'Price')"
      ]
     },
     "execution_count": 24,
     "metadata": {},
     "output_type": "execute_result"
    },
    {
     "data": {
      "image/png": "[encoded data removed]",
      "text/plain": [
       "<Figure size 1500x600 with 1 Axes>"
      ]
     },
     "metadata": {},
     "output_type": "display_data"
    }
   ],
   "source": [
    "from re import sub\n",
    "import matplotlib.pyplot as plt\n",
    "df.index = pd.to_datetime(df['timestamp'])\n",
    "means = df[df[\"sub_area\"] == \"Nagatinskij Zaton\"].groupby(pd.Grouper(freq='ME'))[\"price_doc\"].mean().reset_index()\n",
    "means = means.dropna(subset='price_doc')\n",
    "plt.figure(figsize=(15, 6))\n",
    "plt.plot(means[\"timestamp\"], means[\"price_doc\"])\n",
    "plt.xlabel(\"Date\")\n",
    "plt.ylabel(\"Price\")"
   ]
  },
  {
   "cell_type": "markdown",
   "id": "4c7500bb-36ca-4ea7-bc3c-4f15afbd4c41",
   "metadata": {},
   "source": [
    "2. Постройте гистограмму распределения цен на квартиры с общей площадью более 50 кв.метров"
   ]
  },
  {
   "cell_type": "code",
   "execution_count": 25,
   "id": "7325e7f8-5f00-4a82-8184-7064505f7ccd",
   "metadata": {},
   "outputs": [
    {
     "data": {
      "text/plain": [
       "Text(0, 0.5, 'Full square')"
      ]
     },
     "execution_count": 25,
     "metadata": {},
     "output_type": "execute_result"
    },
    {
     "data": {
      "image/png": "[encoded data removed]",
      "text/plain": [
       "<Figure size 640x480 with 1 Axes>"
      ]
     },
     "metadata": {},
     "output_type": "display_data"
    }
   ],
   "source": [
    "df_hist = df[df[\"full_sq\"] > 50]\n",
    "hist = plt.hist(df_hist[\"price_doc\"], bins=50, align='mid')\n",
    "plt.xlabel(\"Price\")\n",
    "plt.ylabel(\"Full square\")"
   ]
  },
  {
   "cell_type": "markdown",
   "id": "efdd0669-36e0-4708-ac6b-ad0d92881113",
   "metadata": {},
   "source": [
    "3. Визуализируйте количество проданных квартир в разных районах"
   ]
  },
  {
   "cell_type": "code",
   "execution_count": 26,
   "id": "7504a170-04a1-4b86-924d-8d46be16fd3c",
   "metadata": {},
   "outputs": [
    {
     "data": {
      "text/plain": [
       "<BarContainer object of 10 artists>"
      ]
     },
     "execution_count": 26,
     "metadata": {},
     "output_type": "execute_result"
    },
    {
     "data": {
      "image/png": "[encoded data removed]",
      "text/plain": [
       "<Figure size 1500x600 with 1 Axes>"
      ]
     },
     "metadata": {},
     "output_type": "display_data"
    }
   ],
   "source": [
    "count = df.groupby([\"sub_area\"])[\"id\"].count().reset_index()\n",
    "count = count.head(10)\n",
    "plt.figure(figsize=(15, 6))\n",
    "plt.bar(count[\"sub_area\"], count[\"id\"])"
   ]
  },
  {
   "cell_type": "markdown",
   "id": "b5839a48-e992-45fc-81ee-59cb5aa79dda",
   "metadata": {},
   "source": [
    "4. Постройте box plot отображающий распределение полных площадей квартир в Басманном районе"
   ]
  },
  {
   "cell_type": "code",
   "execution_count": 27,
   "id": "1a942378-45ea-47a0-bac9-488960491613",
   "metadata": {},
   "outputs": [
    {
     "data": {
      "image/png": "[encoded data removed]",
      "text/plain": [
       "<Figure size 640x480 with 1 Axes>"
      ]
     },
     "metadata": {},
     "output_type": "display_data"
    }
   ],
   "source": [
    "bas = df[df[\"sub_area\"] == \"Basmannoe\"]\n",
    "plt.boxplot(bas[\"full_sq\"])\n",
    "plt.show()"
   ]
  },
  {
   "cell_type": "markdown",
   "id": "d4c97bef-bb64-43cc-a89f-7510174492ec",
   "metadata": {},
   "source": [
    "5. Визуализируйте зависимость средней стоимости квартир в зависимости от этажа"
   ]
  },
  {
   "cell_type": "code",
   "execution_count": 28,
   "id": "a1f444af-3544-432c-8dc6-bb74d4cff272",
   "metadata": {},
   "outputs": [
    {
     "data": {
      "text/plain": [
       "Text(0, 0.5, 'Price')"
      ]
     },
     "execution_count": 28,
     "metadata": {},
     "output_type": "execute_result"
    },
    {
     "data": {
      "image/png": "[encoded data removed]",
      "text/plain": [
       "<Figure size 640x480 with 1 Axes>"
      ]
     },
     "metadata": {},
     "output_type": "display_data"
    }
   ],
   "source": [
    "means = df.groupby([\"floor\"])[\"price_doc\"].mean().reset_index()\n",
    "means = means.iloc[1:, :]\n",
    "plt.plot(means[\"floor\"], means[\"price_doc\"])\n",
    "plt.xlabel('Floor')\n",
    "plt.ylabel('Price')"
   ]
  },
  {
   "cell_type": "markdown",
   "id": "a2ab764c-8ac1-4c5a-93ad-8168b0eb4934",
   "metadata": {},
   "source": [
    "6. Покажите как меняется средняя площадь квартир в зависимости от района"
   ]
  },
  {
   "cell_type": "code",
   "execution_count": 29,
   "id": "6449e306-fb6c-46d4-bcd8-b6b76fbf69d2",
   "metadata": {},
   "outputs": [
    {
     "data": {
      "text/plain": [
       "Text(0, 0.5, 'Square')"
      ]
     },
     "execution_count": 29,
     "metadata": {},
     "output_type": "execute_result"
    },
    {
     "data": {
      "image/png": "[encoded data removed]",
      "text/plain": [
       "<Figure size 1500x600 with 1 Axes>"
      ]
     },
     "metadata": {},
     "output_type": "display_data"
    }
   ],
   "source": [
    "means = df.groupby([\"sub_area\"])[\"full_sq\"].mean().reset_index().head(10)\n",
    "plt.figure(figsize=(15, 6))\n",
    "plt.bar(means[\"sub_area\"], means[\"full_sq\"])\n",
    "plt.xlabel(\"Sub area\")\n",
    "plt.ylabel(\"Square\")"
   ]
  },
  {
   "cell_type": "markdown",
   "id": "16afdeec-8c90-4ed1-a599-e0b1343bbf5c",
   "metadata": {},
   "source": [
    "7. Постройте график изменения медианной цены на квартиру менее 50 кв. метров за период с 2011 до 2014 года*\n",
    "\n",
    "\\* Задание на доп. балл"
   ]
  },
  {
   "cell_type": "code",
   "execution_count": 30,
   "id": "e10d0cc7-a1ca-4204-a875-b1660e44618d",
   "metadata": {},
   "outputs": [
    {
     "data": {
      "text/plain": [
       "Text(0, 0.5, 'Price')"
      ]
     },
     "execution_count": 30,
     "metadata": {},
     "output_type": "execute_result"
    },
    {
     "data": {
      "image/png": "[encoded data removed]",
      "text/plain": [
       "<Figure size 1500x600 with 1 Axes>"
      ]
     },
     "metadata": {},
     "output_type": "display_data"
    }
   ],
   "source": [
    "df.index = pd.to_datetime(df['timestamp'])\n",
    "means = df[(df[\"full_sq\"] < 50) & (df.index >= pd.Timestamp('2011-01-01')) & (df.index <= pd.Timestamp(2014, 12, 31))].groupby(pd.Grouper(freq='ME'))['price_doc'].mean().reset_index()\n",
    "plt.figure(figsize=(15, 6))\n",
    "plt.plot(means['timestamp'], means['price_doc'])\n",
    "plt.xlabel('Date')\n",
    "plt.ylabel('Price')\n"
   ]
  }
 ],
 "metadata": {
  "kernelspec": {
   "display_name": "Python 3",
   "language": "python",
   "name": "python3"
  },
  "language_info": {
   "codemirror_mode": {
    "name": "ipython",
    "version": 3
   },
   "file_extension": ".py",
   "mimetype": "text/x-python",
   "name": "python",
   "nbconvert_exporter": "python",
   "pygments_lexer": "ipython3",
   "version": "3.11.4"
  }
 },
 "nbformat": 4,
 "nbformat_minor": 5
}
